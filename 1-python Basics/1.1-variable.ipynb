{
 "cells": [
  {
   "cell_type": "code",
   "execution_count": 2,
   "id": "8a9c9c3d",
   "metadata": {},
   "outputs": [],
   "source": [
    "a = 100"
   ]
  },
  {
   "cell_type": "code",
   "execution_count": 3,
   "id": "ff57b562",
   "metadata": {},
   "outputs": [
    {
     "name": "stdout",
     "output_type": "stream",
     "text": [
      "age 32\n",
      "height 6.1\n",
      "name harsh\n"
     ]
    }
   ],
   "source": [
    "age = 32\n",
    "height=6.1\n",
    "name='harsh'\n",
    "is_student = True\n",
    "print(\"age\",age)\n",
    "print(\"height\",height)\n",
    "print(\"name\",name)"
   ]
  },
  {
   "cell_type": "code",
   "execution_count": 4,
   "id": "47b87bb8",
   "metadata": {},
   "outputs": [
    {
     "data": {
      "text/plain": [
       "False"
      ]
     },
     "execution_count": 4,
     "metadata": {},
     "output_type": "execute_result"
    }
   ],
   "source": [
    "## case sensitive\n",
    "name='krish'\n",
    "Name = \"demo\"\n",
    "name==Name"
   ]
  },
  {
   "cell_type": "code",
   "execution_count": 8,
   "id": "140547e2",
   "metadata": {},
   "outputs": [
    {
     "name": "stdout",
     "output_type": "stream",
     "text": [
      "<class 'int'>\n",
      "<class 'float'>\n",
      "<class 'str'>\n"
     ]
    }
   ],
   "source": [
    "## understaning variable types\n",
    "## python is dynamically typed\n",
    "age = 25\n",
    "height = 5.9\n",
    "print(type(age))\n",
    "print(type(height))\n",
    "print(type(name))"
   ]
  },
  {
   "cell_type": "code",
   "execution_count": 9,
   "id": "f9b74282",
   "metadata": {},
   "outputs": [
    {
     "data": {
      "text/plain": [
       "float"
      ]
     },
     "execution_count": 9,
     "metadata": {},
     "output_type": "execute_result"
    }
   ],
   "source": [
    "## Type checking and conversion\n",
    "\n",
    "type(height)\n"
   ]
  },
  {
   "cell_type": "code",
   "execution_count": 11,
   "id": "bfb5b243",
   "metadata": {},
   "outputs": [
    {
     "name": "stdout",
     "output_type": "stream",
     "text": [
      "<class 'int'>\n",
      "<class 'str'>\n",
      "25\n"
     ]
    }
   ],
   "source": [
    "age = 25\n",
    "print(type(age))\n",
    "# type conversion\n",
    "age_str = str(age)\n",
    "print(type(age_str))\n",
    "print(age_str)"
   ]
  },
  {
   "cell_type": "code",
   "execution_count": 14,
   "id": "c157a2be",
   "metadata": {},
   "outputs": [
    {
     "ename": "ValueError",
     "evalue": "invalid literal for int() with base 10: 'krish'",
     "output_type": "error",
     "traceback": [
      "\u001b[31m---------------------------------------------------------------------------\u001b[39m",
      "\u001b[31mValueError\u001b[39m                                Traceback (most recent call last)",
      "\u001b[36mCell\u001b[39m\u001b[36m \u001b[39m\u001b[32mIn[14]\u001b[39m\u001b[32m, line 2\u001b[39m\n\u001b[32m      1\u001b[39m name= \u001b[33m'\u001b[39m\u001b[33mkrish\u001b[39m\u001b[33m'\u001b[39m\n\u001b[32m----> \u001b[39m\u001b[32m2\u001b[39m \u001b[38;5;28;43mint\u001b[39;49m\u001b[43m(\u001b[49m\u001b[43mname\u001b[49m\u001b[43m)\u001b[49m\n",
      "\u001b[31mValueError\u001b[39m: invalid literal for int() with base 10: 'krish'"
     ]
    }
   ],
   "source": [
    "name= 'krish'\n",
    "int(name)"
   ]
  },
  {
   "cell_type": "code",
   "execution_count": 15,
   "id": "d6531baf",
   "metadata": {},
   "outputs": [
    {
     "data": {
      "text/plain": [
       "float"
      ]
     },
     "execution_count": 15,
     "metadata": {},
     "output_type": "execute_result"
    }
   ],
   "source": [
    "height = 5.11\n",
    "type(height)"
   ]
  },
  {
   "cell_type": "code",
   "execution_count": 17,
   "id": "c76c3395",
   "metadata": {},
   "outputs": [
    {
     "data": {
      "text/plain": [
       "5.11"
      ]
     },
     "execution_count": 17,
     "metadata": {},
     "output_type": "execute_result"
    }
   ],
   "source": [
    "float(height)"
   ]
  },
  {
   "cell_type": "code",
   "execution_count": 19,
   "id": "63b8e534",
   "metadata": {},
   "outputs": [
    {
     "name": "stdout",
     "output_type": "stream",
     "text": [
      "<class 'int'>\n",
      "hello <class 'str'>\n"
     ]
    }
   ],
   "source": [
    "## dyanamic typing\n",
    "## python allows the type of a variale to chanfe as program executes\n",
    "var = 10\n",
    "print(type(var))\n",
    "var = \"hello\"\n",
    "print(var,type(var))"
   ]
  },
  {
   "cell_type": "code",
   "execution_count": 22,
   "id": "afa8b3fc",
   "metadata": {},
   "outputs": [
    {
     "name": "stdout",
     "output_type": "stream",
     "text": [
      "your age is <class 'int'>\n"
     ]
    }
   ],
   "source": [
    "## input\n",
    "age = int(input(\"what is your age\"))\n",
    "print(\"your age is\",type(age))"
   ]
  },
  {
   "cell_type": "code",
   "execution_count": 24,
   "id": "3e4faf7b",
   "metadata": {},
   "outputs": [
    {
     "name": "stdout",
     "output_type": "stream",
     "text": [
      "sum is 25.0\n",
      "difference is -5.0\n",
      "product is 150.0\n",
      "quotient is 0.6666666666666666\n"
     ]
    }
   ],
   "source": [
    "num1 = float(input(\"enter first number\"))\n",
    "num2 = float(input(\"enter second number\"))\n",
    "sum = num1 + num2\n",
    "diff = num1 - num2\n",
    "product = num1 * num2\n",
    "quotient = num1 / num2\n",
    "print(\"sum is\",sum)\n",
    "print(\"difference is\",diff) \n",
    "print(\"product is\",product)\n",
    "print(\"quotient is\",quotient)"
   ]
  },
  {
   "cell_type": "code",
   "execution_count": null,
   "id": "f155f5d3",
   "metadata": {},
   "outputs": [],
   "source": []
  },
  {
   "cell_type": "code",
   "execution_count": null,
   "id": "69791acf",
   "metadata": {},
   "outputs": [],
   "source": []
  },
  {
   "cell_type": "code",
   "execution_count": null,
   "id": "40e9755d",
   "metadata": {},
   "outputs": [],
   "source": []
  },
  {
   "cell_type": "code",
   "execution_count": null,
   "id": "bbb3f80d",
   "metadata": {},
   "outputs": [],
   "source": []
  }
 ],
 "metadata": {
  "kernelspec": {
   "display_name": "Python 3",
   "language": "python",
   "name": "python3"
  },
  "language_info": {
   "codemirror_mode": {
    "name": "ipython",
    "version": 3
   },
   "file_extension": ".py",
   "mimetype": "text/x-python",
   "name": "python",
   "nbconvert_exporter": "python",
   "pygments_lexer": "ipython3",
   "version": "3.12.0"
  }
 },
 "nbformat": 4,
 "nbformat_minor": 5
}
