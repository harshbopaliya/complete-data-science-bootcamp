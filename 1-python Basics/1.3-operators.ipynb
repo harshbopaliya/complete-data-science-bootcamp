{
 "cells": [
  {
   "cell_type": "code",
   "execution_count": 4,
   "id": "271a2e7b",
   "metadata": {},
   "outputs": [
    {
     "name": "stdout",
     "output_type": "stream",
     "text": [
      "The sum of a and b is:  15\n",
      "The difference of a and b is:  5\n",
      "The product of a and b is:  50\n",
      "The division of a and b is:  2.0\n",
      "The floor division of a and b is:  2\n",
      "The modulus of a and b is:  0\n",
      "The exponent of a and b is:  100000\n"
     ]
    }
   ],
   "source": [
    "## arithmetic operators\n",
    "\n",
    "a = 10\n",
    "b=5\n",
    "add_result = a + b\n",
    "sub_result= a- b\n",
    "mul_result = a * b\n",
    "div_result = a / b\n",
    "floor_div_result = a // b\n",
    "mod_result = a % b\n",
    "exp_result = a ** b\n",
    "print(\"The sum of a and b is: \", add_result)\n",
    "print(\"The difference of a and b is: \", sub_result) \n",
    "print(\"The product of a and b is: \", mul_result)\n",
    "print(\"The division of a and b is: \", div_result)\n",
    "print(\"The floor division of a and b is: \", floor_div_result)\n",
    "print(\"The modulus of a and b is: \", mod_result)\n",
    "print(\"The exponent of a and b is: \", exp_result)"
   ]
  },
  {
   "cell_type": "code",
   "execution_count": null,
   "id": "7702f46c",
   "metadata": {},
   "outputs": [
    {
     "data": {
      "text/plain": [
       "False"
      ]
     },
     "execution_count": 10,
     "metadata": {},
     "output_type": "execute_result"
    }
   ],
   "source": [
    "## comparison operators\n",
    "## == eual to \n",
    "a=10\n",
    "b='10'\n",
    "a==b"
   ]
  },
  {
   "cell_type": "code",
   "execution_count": 12,
   "id": "36f2980b",
   "metadata": {},
   "outputs": [
    {
     "data": {
      "text/plain": [
       "True"
      ]
     },
     "execution_count": 12,
     "metadata": {},
     "output_type": "execute_result"
    }
   ],
   "source": [
    "str1 = 'krish'\n",
    "str2 = 'krish'\n",
    "str1==str2"
   ]
  },
  {
   "cell_type": "code",
   "execution_count": 13,
   "id": "79c0064e",
   "metadata": {},
   "outputs": [
    {
     "data": {
      "text/plain": [
       "True"
      ]
     },
     "execution_count": 13,
     "metadata": {},
     "output_type": "execute_result"
    }
   ],
   "source": [
    "## not equal to\n",
    "a=10\n",
    "b='10'\n",
    "a!=b"
   ]
  },
  {
   "cell_type": "code",
   "execution_count": 14,
   "id": "60206eca",
   "metadata": {},
   "outputs": [
    {
     "data": {
      "text/plain": [
       "False"
      ]
     },
     "execution_count": 14,
     "metadata": {},
     "output_type": "execute_result"
    }
   ],
   "source": [
    "## greater than\n",
    "a = 45\n",
    "b= 55\n",
    "a>b"
   ]
  },
  {
   "cell_type": "code",
   "execution_count": 15,
   "id": "b93d7ed6",
   "metadata": {},
   "outputs": [
    {
     "data": {
      "text/plain": [
       "True"
      ]
     },
     "execution_count": 15,
     "metadata": {},
     "output_type": "execute_result"
    }
   ],
   "source": [
    "## less than\n",
    "a<b"
   ]
  },
  {
   "cell_type": "code",
   "execution_count": 16,
   "id": "51d615d0",
   "metadata": {},
   "outputs": [
    {
     "data": {
      "text/plain": [
       "5"
      ]
     },
     "execution_count": 16,
     "metadata": {},
     "output_type": "execute_result"
    }
   ],
   "source": [
    "## logical oeprators\n",
    "a=10\n",
    "b=5\n",
    "a and b"
   ]
  },
  {
   "cell_type": "code",
   "execution_count": 21,
   "id": "60b3241b",
   "metadata": {},
   "outputs": [
    {
     "name": "stdout",
     "output_type": "stream",
     "text": [
      "0\n",
      "2\n",
      "True\n"
     ]
    }
   ],
   "source": [
    "## logical operators \n",
    "# and not or\n",
    "a=0\n",
    "b=2\n",
    "result = a and b\n",
    "print(result)\n",
    "result = a or b\n",
    "print(result)\n",
    "result = not a\n",
    "print(result)\n",
    "\n"
   ]
  },
  {
   "cell_type": "code",
   "execution_count": null,
   "id": "725e2c17",
   "metadata": {},
   "outputs": [],
   "source": []
  },
  {
   "cell_type": "code",
   "execution_count": null,
   "id": "7ae44550",
   "metadata": {},
   "outputs": [],
   "source": []
  }
 ],
 "metadata": {
  "kernelspec": {
   "display_name": "Python 3",
   "language": "python",
   "name": "python3"
  },
  "language_info": {
   "codemirror_mode": {
    "name": "ipython",
    "version": 3
   },
   "file_extension": ".py",
   "mimetype": "text/x-python",
   "name": "python",
   "nbconvert_exporter": "python",
   "pygments_lexer": "ipython3",
   "version": "3.12.0"
  }
 },
 "nbformat": 4,
 "nbformat_minor": 5
}
