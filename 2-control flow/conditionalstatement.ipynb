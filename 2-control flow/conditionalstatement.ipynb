{
 "cells": [
  {
   "cell_type": "code",
   "execution_count": 1,
   "id": "2925e33b",
   "metadata": {},
   "outputs": [
    {
     "name": "stdout",
     "output_type": "stream",
     "text": [
      "adult\n"
     ]
    }
   ],
   "source": [
    "#conditional statement\n",
    "## if statement\n",
    "age = 20\n",
    "if age>=18:\n",
    "    print(\"adult\")\n"
   ]
  },
  {
   "cell_type": "code",
   "execution_count": 3,
   "id": "18105239",
   "metadata": {},
   "outputs": [
    {
     "name": "stdout",
     "output_type": "stream",
     "text": [
      "you are minor\n"
     ]
    }
   ],
   "source": [
    "age = 16\n",
    "if age>18:\n",
    "    print(\"you are eligible for voting\")\n",
    "else:\n",
    "    print(\"you are minor\")"
   ]
  },
  {
   "cell_type": "code",
   "execution_count": null,
   "id": "77d9c695",
   "metadata": {},
   "outputs": [
    {
     "name": "stdout",
     "output_type": "stream",
     "text": [
      "you are minor\n"
     ]
    }
   ],
   "source": [
    "## elif\n",
    "# elif statement is allows us to check multiple conditions\n",
    "age = 20\n",
    "if age>18:\n",
    "    print(\"you are eligible for voting\")\n",
    "elif age==18:\n",
    "    print(\"you are eligible for voting\")\n",
    "else:\n",
    "    print(\"you are minor\")"
   ]
  },
  {
   "cell_type": "code",
   "execution_count": 7,
   "id": "efd5d262",
   "metadata": {},
   "outputs": [
    {
     "name": "stdout",
     "output_type": "stream",
     "text": [
      "2024 leap year\n"
     ]
    }
   ],
   "source": [
    "year = int(input(\"enter year\"))\n",
    "if year%4==0:\n",
    "    if year%100==0:\n",
    "        if year%400==0:\n",
    "            print(year,'leap year')\n",
    "        else:\n",
    "            print(year,'not leap year')\n",
    "    else:\n",
    "        print(year,'leap year')\n",
    "else:\n",
    "    print(year,'not leap year')"
   ]
  },
  {
   "cell_type": "code",
   "execution_count": 11,
   "id": "e09dbdfd",
   "metadata": {},
   "outputs": [
    {
     "name": "stdout",
     "output_type": "stream",
     "text": [
      "cannot divide by zero\n"
     ]
    }
   ],
   "source": [
    "## simple calculator\n",
    "num1 = float(input(\"enter first number\"))\n",
    "num2 = float(input(\"enter second number\"))\n",
    "operator = input(\"enter operator\")\n",
    "if operator == '+':\n",
    "    print(num1+num2)\n",
    "elif operator == '-':\n",
    "    print(num1-num2)\n",
    "elif operator == '*':\n",
    "    print(num1*num2)\n",
    "elif operator == '/':\n",
    "    if num2!=0:\n",
    "        print(num1/num2)\n",
    "    else:\n",
    "        print(\"cannot divide by zero\")\n",
    "else:\n",
    "    print(\"invalid operator\")\n"
   ]
  },
  {
   "cell_type": "code",
   "execution_count": 15,
   "id": "fc797136",
   "metadata": {},
   "outputs": [
    {
     "name": "stdout",
     "output_type": "stream",
     "text": [
      "Your ticket price is free\n"
     ]
    }
   ],
   "source": [
    "### determine ticke price based on age whether a person is student\n",
    "age = int(input(\"enter age\"))\n",
    "is_student = input(\"Are you a student? (yes/no)\").lower()\n",
    "\n",
    "if age<5:\n",
    "    price=\"free\"\n",
    "elif age>=5 and age<=18:\n",
    "    if is_student == \"yes\":\n",
    "        price=\"$5\"\n",
    "    else:\n",
    "        price=\"$10\"\n",
    "else:\n",
    "    price=\"$20\"\n",
    "print(f\"Your ticket price is {price}\")"
   ]
  },
  {
   "cell_type": "code",
   "execution_count": null,
   "id": "06ca5df8",
   "metadata": {},
   "outputs": [],
   "source": []
  },
  {
   "cell_type": "code",
   "execution_count": null,
   "id": "aff58ac1",
   "metadata": {},
   "outputs": [],
   "source": []
  },
  {
   "cell_type": "code",
   "execution_count": null,
   "id": "e23ed4c3",
   "metadata": {},
   "outputs": [],
   "source": []
  },
  {
   "cell_type": "code",
   "execution_count": null,
   "id": "90881fd9",
   "metadata": {},
   "outputs": [],
   "source": []
  }
 ],
 "metadata": {
  "kernelspec": {
   "display_name": "Python 3",
   "language": "python",
   "name": "python3"
  },
  "language_info": {
   "codemirror_mode": {
    "name": "ipython",
    "version": 3
   },
   "file_extension": ".py",
   "mimetype": "text/x-python",
   "name": "python",
   "nbconvert_exporter": "python",
   "pygments_lexer": "ipython3",
   "version": "3.12.0"
  }
 },
 "nbformat": 4,
 "nbformat_minor": 5
}
