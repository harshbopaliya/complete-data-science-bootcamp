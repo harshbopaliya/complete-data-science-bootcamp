{
 "cells": [
  {
   "cell_type": "code",
   "execution_count": 2,
   "id": "a24382cd",
   "metadata": {},
   "outputs": [
    {
     "name": "stdout",
     "output_type": "stream",
     "text": [
      "<class 'dict'>\n"
     ]
    }
   ],
   "source": [
    "## creating dictionaries\n",
    "empty = {}\n",
    "print(type(empty))"
   ]
  },
  {
   "cell_type": "code",
   "execution_count": 3,
   "id": "d736564c",
   "metadata": {},
   "outputs": [
    {
     "name": "stdout",
     "output_type": "stream",
     "text": [
      "{'name': 'John', 'age': 20, 'courses': ['Math', 'Science']}\n"
     ]
    }
   ],
   "source": [
    "student = {\"name\": \"John\", \"age\": 20, \"courses\": [\"Math\", \"Science\"]}\n",
    "print(student)"
   ]
  },
  {
   "cell_type": "code",
   "execution_count": 4,
   "id": "2ddaa3d2",
   "metadata": {},
   "outputs": [
    {
     "name": "stdout",
     "output_type": "stream",
     "text": [
      "{'name': 'harsh', 'age': 20, 'grade': 'A'}\n"
     ]
    }
   ],
   "source": [
    "## accesing the dict \n",
    "student = {\"name\":\"harsh\", \"age\": 20, \"grade\":\"A\"}\n",
    "print(student)"
   ]
  },
  {
   "cell_type": "code",
   "execution_count": 5,
   "id": "a05d3f97",
   "metadata": {},
   "outputs": [
    {
     "name": "stdout",
     "output_type": "stream",
     "text": [
      "harsh\n"
     ]
    }
   ],
   "source": [
    "student.get(\"name\")  # using get method\n",
    "print(student[\"name\"])  # using key directly"
   ]
  },
  {
   "cell_type": "code",
   "execution_count": 6,
   "id": "7d8ece24",
   "metadata": {},
   "outputs": [
    {
     "name": "stdout",
     "output_type": "stream",
     "text": [
      "None\n",
      "Not Found\n"
     ]
    }
   ],
   "source": [
    "print(student.get(\"phone\")) \n",
    "print(student.get(\"phone\", \"Not Found\"))  # default value if key not found"
   ]
  },
  {
   "cell_type": "code",
   "execution_count": 7,
   "id": "e87f418d",
   "metadata": {},
   "outputs": [
    {
     "name": "stdout",
     "output_type": "stream",
     "text": [
      "{'name': 'harsh', 'age': 20, 'grade': 'A'}\n"
     ]
    }
   ],
   "source": [
    "## modifying dictionaries elements\n",
    "## dictionary are mutable , add , update or delete elements\n",
    "print(student)"
   ]
  },
  {
   "cell_type": "code",
   "execution_count": 8,
   "id": "8788efb3",
   "metadata": {},
   "outputs": [
    {
     "name": "stdout",
     "output_type": "stream",
     "text": [
      "{'name': 'harsh', 'age': 33, 'grade': 'A'}\n",
      "{'name': 'harsh', 'age': 33, 'grade': 'A', 'phone': '123-456-7890'}\n"
     ]
    }
   ],
   "source": [
    "student['age'] = 33  ## update value \n",
    "print(student)\n",
    "student['phone'] = \"123-456-7890\"  # adding new key-value \n",
    "print(student)"
   ]
  },
  {
   "cell_type": "code",
   "execution_count": 9,
   "id": "a6205073",
   "metadata": {},
   "outputs": [
    {
     "name": "stdout",
     "output_type": "stream",
     "text": [
      "{'name': 'harsh', 'age': 33, 'phone': '123-456-7890'}\n"
     ]
    }
   ],
   "source": [
    "del student['grade']  # deleting a key-value pair\n",
    "print(student)"
   ]
  },
  {
   "cell_type": "code",
   "execution_count": 10,
   "id": "8b5fffd3",
   "metadata": {},
   "outputs": [
    {
     "name": "stdout",
     "output_type": "stream",
     "text": [
      "dict_keys(['name', 'age', 'phone'])\n",
      "dict_values(['harsh', 33, '123-456-7890'])\n",
      "dict_items([('name', 'harsh'), ('age', 33), ('phone', '123-456-7890')])\n"
     ]
    }
   ],
   "source": [
    "## dictionary methods we use\n",
    "keys = student.keys()  # get all keys\n",
    "print(keys)\n",
    "values = student.values()  # get all values\n",
    "print(values)\n",
    "items = student.items()  # get all key-value pairs\n",
    "print(items)"
   ]
  },
  {
   "cell_type": "code",
   "execution_count": 11,
   "id": "6ef6cf86",
   "metadata": {},
   "outputs": [
    {
     "name": "stdout",
     "output_type": "stream",
     "text": [
      "{'name': 'harsh', 'age': 33, 'phone': '123-456-7890'}\n"
     ]
    }
   ],
   "source": [
    "## shallow copy\n",
    "student_copy = student  # create a shallow copy\n",
    "print(student_copy)"
   ]
  },
  {
   "cell_type": "code",
   "execution_count": 12,
   "id": "f6e327a7",
   "metadata": {},
   "outputs": [
    {
     "name": "stdout",
     "output_type": "stream",
     "text": [
      "{'name': 'John', 'age': 33, 'phone': '123-456-7890'}\n",
      "{'name': 'John', 'age': 33, 'phone': '123-456-7890'}\n"
     ]
    }
   ],
   "source": [
    "student[\"name\"] = \"John\"\n",
    "print(student)  # original dictionary\n",
    "print(student_copy)  # copied dictionary remains unchanged"
   ]
  },
  {
   "cell_type": "code",
   "execution_count": 13,
   "id": "2541f5c6",
   "metadata": {},
   "outputs": [
    {
     "name": "stdout",
     "output_type": "stream",
     "text": [
      "{'name': 'John', 'age': 33, 'phone': '123-456-7890'}\n",
      "{'name': 'John', 'age': 33, 'phone': '123-456-7890'}\n",
      "{'name': 'krish', 'age': 33, 'phone': '123-456-7890'}\n"
     ]
    }
   ],
   "source": [
    "## shallow cppy\n",
    "student_copy = student.copy()\n",
    "print(student_copy)\n",
    "print(student)\n",
    "student[\"name\"] = \"krish\"\n",
    "print(student) # this creates a reference, not a copy"
   ]
  },
  {
   "cell_type": "code",
   "execution_count": 14,
   "id": "9315d9fe",
   "metadata": {},
   "outputs": [
    {
     "name": "stdout",
     "output_type": "stream",
     "text": [
      "{'name': 'John', 'age': 33, 'phone': '123-456-7890'}\n"
     ]
    }
   ],
   "source": [
    "print(student_copy)"
   ]
  },
  {
   "cell_type": "code",
   "execution_count": 15,
   "id": "51cfaae7",
   "metadata": {},
   "outputs": [
    {
     "name": "stdout",
     "output_type": "stream",
     "text": [
      "name\n",
      "age\n",
      "phone\n"
     ]
    }
   ],
   "source": [
    "## iterating over dictionaries\n",
    "## we can use loops to iterate over dictionaries\n",
    "\n",
    "#keys\n",
    "for keys in student.keys():\n",
    "    print(keys)\n"
   ]
  },
  {
   "cell_type": "code",
   "execution_count": 16,
   "id": "fda9d811",
   "metadata": {},
   "outputs": [
    {
     "name": "stdout",
     "output_type": "stream",
     "text": [
      "krish\n",
      "33\n",
      "123-456-7890\n"
     ]
    }
   ],
   "source": [
    "# itreaing over values\n",
    "for value in student.values():\n",
    "    print(value)"
   ]
  },
  {
   "cell_type": "code",
   "execution_count": 17,
   "id": "0469a326",
   "metadata": {},
   "outputs": [
    {
     "name": "stdout",
     "output_type": "stream",
     "text": [
      "name: krish\n",
      "age: 33\n",
      "phone: 123-456-7890\n"
     ]
    }
   ],
   "source": [
    "# iterating over items\n",
    "for key, value in student.items():\n",
    "    print(f\"{key}: {value}\")"
   ]
  },
  {
   "cell_type": "code",
   "execution_count": 18,
   "id": "04dcb443",
   "metadata": {},
   "outputs": [
    {
     "name": "stdout",
     "output_type": "stream",
     "text": [
      "{'student1': {'name': 'krish', 'age': 32}, 'student2': {'name': 'peter', 'age': 35}, 'student3': {'name': 'john', 'age': 25}}\n"
     ]
    }
   ],
   "source": [
    "## nested dictionaries\n",
    "students = {\n",
    "    \"student1\":{\"name\":\"krish\", \"age\": 32},\n",
    "    \"student2\":{\"name\":\"peter\", \"age\": 35},\n",
    "    \"student3\":{\"name\":\"john\", \"age\": 25}\n",
    "}\n",
    "\n",
    "print(students)"
   ]
  },
  {
   "cell_type": "code",
   "execution_count": 19,
   "id": "4f11f129",
   "metadata": {},
   "outputs": [
    {
     "name": "stdout",
     "output_type": "stream",
     "text": [
      "peter\n",
      "35\n"
     ]
    }
   ],
   "source": [
    "## nested dictionaries elementes\n",
    "print(students[\"student2\"][\"name\"])\n",
    "## nested dictionaries elementes\n",
    "print(students[\"student2\"][\"age\"])"
   ]
  },
  {
   "cell_type": "code",
   "execution_count": 20,
   "id": "4b7cdb68",
   "metadata": {},
   "outputs": [
    {
     "name": "stdout",
     "output_type": "stream",
     "text": [
      "student1:{'name': 'krish', 'age': 32}\n",
      "name:krish\n",
      "age:32\n",
      "student2:{'name': 'peter', 'age': 35}\n",
      "name:peter\n",
      "age:35\n",
      "student3:{'name': 'john', 'age': 25}\n",
      "name:john\n",
      "age:25\n"
     ]
    }
   ],
   "source": [
    "## iterating over nested dictionaries\n",
    "for stundet_id,stundet_info in students.items():\n",
    "    print(f\"{stundet_id}:{stundet_info}\")\n",
    "    for key,value in stundet_info.items():\n",
    "        print(f\"{key}:{value}\")"
   ]
  },
  {
   "cell_type": "code",
   "execution_count": 22,
   "id": "de175358",
   "metadata": {},
   "outputs": [
    {
     "name": "stdout",
     "output_type": "stream",
     "text": [
      "{0: 0, 1: 1, 2: 4, 3: 9, 4: 16}\n"
     ]
    }
   ],
   "source": [
    "## dictionary comprehension\n",
    "sq = {x:x**2 for x in range(5)}\n",
    "print(sq)"
   ]
  },
  {
   "cell_type": "code",
   "execution_count": 24,
   "id": "1e2f81b8",
   "metadata": {},
   "outputs": [
    {
     "name": "stdout",
     "output_type": "stream",
     "text": [
      "{0: 0, 2: 4, 4: 16, 6: 36, 8: 64}\n"
     ]
    }
   ],
   "source": [
    "#conditional dictionary comprehension\n",
    "even_sq = { x:x**2 for x in range(10) if x%2==0}\n",
    "print(even_sq)"
   ]
  },
  {
   "cell_type": "code",
   "execution_count": 26,
   "id": "9b215d6a",
   "metadata": {},
   "outputs": [
    {
     "name": "stdout",
     "output_type": "stream",
     "text": [
      "{1: 1, 2: 2, 3: 2, 4: 4}\n"
     ]
    }
   ],
   "source": [
    "## practical example\n",
    "## use a dictionary to count the frequency of words in a sentence\n",
    "numbers = [1,2,2,3,3,4,4,4,4]\n",
    "result = {}\n",
    "for i in numbers:\n",
    "    if i in result:\n",
    "        result[i] += 1\n",
    "    else:\n",
    "        result[i] = 1\n",
    "print(result)"
   ]
  },
  {
   "cell_type": "code",
   "execution_count": 27,
   "id": "dfd709ae",
   "metadata": {},
   "outputs": [
    {
     "name": "stdout",
     "output_type": "stream",
     "text": [
      "{'a': 1, 'b': 3, 'c': 4}\n"
     ]
    }
   ],
   "source": [
    "## merge 2 dictionaries\n",
    "\n",
    "dict1 = {\"a\":1 , \"b\":2}\n",
    "dict2 = {\"b\":3, \"c\":4}\n",
    "merged_dict = {**dict1, **dict2}  # using unpacking\n",
    "print(merged_dict)"
   ]
  },
  {
   "cell_type": "code",
   "execution_count": null,
   "id": "490cb54f",
   "metadata": {},
   "outputs": [],
   "source": []
  }
 ],
 "metadata": {
  "kernelspec": {
   "display_name": "udmeny_env",
   "language": "python",
   "name": "python3"
  },
  "language_info": {
   "codemirror_mode": {
    "name": "ipython",
    "version": 3
   },
   "file_extension": ".py",
   "mimetype": "text/x-python",
   "name": "python",
   "nbconvert_exporter": "python",
   "pygments_lexer": "ipython3",
   "version": "3.12.9"
  }
 },
 "nbformat": 4,
 "nbformat_minor": 5
}
